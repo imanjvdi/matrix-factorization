{
 "cells": [
  {
   "cell_type": "code",
   "execution_count": 1,
   "metadata": {},
   "outputs": [],
   "source": [
    "import numpy as np\n",
    "\n",
    "from sklearn.decomposition import NMF"
   ]
  },
  {
   "cell_type": "code",
   "execution_count": 2,
   "metadata": {},
   "outputs": [
    {
     "data": {
      "text/plain": [
       "array([[5, 3, 0, 1, 4],\n",
       "       [4, 0, 0, 1, 0],\n",
       "       [1, 1, 0, 5, 0],\n",
       "       [0, 0, 5, 4, 0],\n",
       "       [0, 3, 4, 0, 0]])"
      ]
     },
     "execution_count": 2,
     "metadata": {},
     "output_type": "execute_result"
    }
   ],
   "source": [
    "R = np.array([\n",
    "    [5, 3, 0, 1, 4],\n",
    "    [4, 0, 0, 1, 0],\n",
    "    [1, 1, 0, 5, 0],\n",
    "    [0, 0, 5, 4, 0],\n",
    "    [0, 3, 4, 0, 0]\n",
    "])\n",
    "\n",
    "R"
   ]
  },
  {
   "cell_type": "code",
   "execution_count": 3,
   "metadata": {},
   "outputs": [],
   "source": [
    "k = 4"
   ]
  },
  {
   "cell_type": "code",
   "execution_count": 4,
   "metadata": {},
   "outputs": [
    {
     "name": "stdout",
     "output_type": "stream",
     "text": [
      "U-matrix:\n",
      "[[0.05802402 0.         0.47053255 2.36164897]\n",
      " [0.27085818 0.         0.34749831 0.        ]\n",
      " [3.86428174 0.         0.06193332 0.44326872]\n",
      " [3.16161732 2.75014089 0.         0.        ]\n",
      " [0.         2.30599696 0.         1.22115509]]\n",
      "V-matrix:\n",
      "[[5.16005626e-02 0.00000000e+00 1.56625664e-02 1.26336307e+00\n",
      "  0.00000000e+00]\n",
      " [0.00000000e+00 2.18856055e-01 1.77305262e+00 0.00000000e+00\n",
      "  0.00000000e+00]\n",
      " [1.09423850e+01 0.00000000e+00 0.00000000e+00 1.91454575e+00\n",
      "  2.39596802e+00]\n",
      " [0.00000000e+00 1.45564372e+00 0.00000000e+00 8.36479764e-03\n",
      "  9.24742648e-01]]\n"
     ]
    }
   ],
   "source": [
    "model = NMF(n_components=k, init='random', random_state=42)\n",
    "U = model.fit_transform(R)  \n",
    "V = model.components_\n",
    "\n",
    "print(\"U-matrix:\")\n",
    "print(U)\n",
    "\n",
    "print(\"V-matrix:\")\n",
    "print(V)"
   ]
  },
  {
   "cell_type": "code",
   "execution_count": 5,
   "metadata": {},
   "outputs": [
    {
     "data": {
      "text/plain": [
       "array([[5.15174233e+00, 3.43771949e+00, 9.08805135e-04, 9.93916209e-01,\n",
       "        3.31129845e+00],\n",
       "       [3.81643670e+00, 0.00000000e+00, 4.24233417e-03, 1.00749363e+00,\n",
       "        8.32594832e-01],\n",
       "       [8.77097348e-01, 6.45241326e-01, 6.05245694e-02, 5.00427286e+00,\n",
       "        5.58299744e-01],\n",
       "       [1.63141233e-01, 6.01884986e-01, 4.92566355e+00, 3.99427056e+00,\n",
       "        0.00000000e+00],\n",
       "       [0.00000000e+00, 2.28224813e+00, 4.08865394e+00, 1.02147152e-02,\n",
       "        1.12925419e+00]])"
      ]
     },
     "execution_count": 5,
     "metadata": {},
     "output_type": "execute_result"
    }
   ],
   "source": [
    "predicted_matrix = np.dot(U, V)\n",
    "\n",
    "predicted_matrix"
   ]
  },
  {
   "cell_type": "code",
   "execution_count": 6,
   "metadata": {},
   "outputs": [
    {
     "name": "stdout",
     "output_type": "stream",
     "text": [
      "ماتریس اصلی:\n",
      "[[5 3 0 1 4]\n",
      " [4 0 0 1 0]\n",
      " [1 1 0 5 0]\n",
      " [0 0 5 4 0]\n",
      " [0 3 4 0 0]]\n",
      "\n",
      "ماتریس بازسازی‌شده (پیش‌بینی‌شده) با NMF:\n",
      "[[5.15 3.44 0.   0.99 3.31]\n",
      " [3.82 0.   0.   1.01 0.83]\n",
      " [0.88 0.65 0.06 5.   0.56]\n",
      " [0.16 0.6  4.93 3.99 0.  ]\n",
      " [0.   2.28 4.09 0.01 1.13]]\n"
     ]
    }
   ],
   "source": [
    "print(\"ماتریس اصلی:\")\n",
    "print(R)\n",
    "print(\"\\nماتریس بازسازی‌شده (پیش‌بینی‌شده) با NMF:\")\n",
    "print(np.round(predicted_matrix, 2))"
   ]
  }
 ],
 "metadata": {
  "kernelspec": {
   "display_name": "Python 3",
   "language": "python",
   "name": "python3"
  },
  "language_info": {
   "codemirror_mode": {
    "name": "ipython",
    "version": 3
   },
   "file_extension": ".py",
   "mimetype": "text/x-python",
   "name": "python",
   "nbconvert_exporter": "python",
   "pygments_lexer": "ipython3",
   "version": "3.12.4"
  }
 },
 "nbformat": 4,
 "nbformat_minor": 2
}
